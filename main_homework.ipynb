{
 "cells": [
  {
   "cell_type": "markdown",
   "metadata": {},
   "source": [
    "##Shayakhmetov Rim"
   ]
  },
  {
   "cell_type": "markdown",
   "metadata": {},
   "source": [
    "###Data - Tic Tac Toe Endgame\n",
    "https://archive.ics.uci.edu/ml/datasets/Tic-Tac-Toe+Endgame"
   ]
  },
  {
   "cell_type": "code",
   "execution_count": 1,
   "metadata": {
    "collapsed": true
   },
   "outputs": [],
   "source": [
    "import numpy as np\n",
    "import pandas as pd\n",
    "import sklearn.metrics\n",
    "import sklearn.cross_validation\n",
    "import sklearn.ensemble\n",
    "import sklearn.grid_search\n"
   ]
  },
  {
   "cell_type": "markdown",
   "metadata": {},
   "source": [
    "###Creating csv file for convenience purposes"
   ]
  },
  {
   "cell_type": "code",
   "execution_count": 2,
   "metadata": {
    "collapsed": false
   },
   "outputs": [],
   "source": [
    "columns = ['top-left-square', 'top-middle-square', 'top-right-square', 'middle-left-square', 'middle-middle-square', 'middle-right-square', 'bottom-left-square', 'bottom-middle-square', 'bottom-right-square', 'Class']\n",
    "data = pd.read_csv('tic-tac-toe.data', header=None)\n",
    "data.columns = columns\n",
    "data.Class = data.Class.map(lambda x: 1 if x == 'positive' else 0)\n",
    "data.to_csv('tic-tac-toe.csv', index=False)\n",
    "data = pd.get_dummies(data)\n",
    "X = data.ix[:, 1:].values\n",
    "y = data.ix[:, 0].values\n",
    "for train_index, test_index in sklearn.cross_validation.StratifiedShuffleSplit(y, n_iter=1, test_size=0.3):\n",
    "    X_train, X_test = X[train_index], X[test_index]\n",
    "    y_train, y_test = y[train_index], y[test_index]"
   ]
  },
  {
   "cell_type": "code",
   "execution_count": 4,
   "metadata": {
    "collapsed": true
   },
   "outputs": [],
   "source": [
    "class MyClassifier():\n",
    "    def __init__(self, min_supp=0.9, min_similarity=0.9):\n",
    "        self.min_supp = min_supp\n",
    "        self.min_similarity = min_similarity\n",
    "        \n",
    "    def __predict_one(self, x):\n",
    "        pos_intersection = (self.pos*x)\n",
    "        pos_conf = (pos_intersection == x).sum(axis=1)/x.shape[0]\n",
    "        neg_intersection = (self.neg*x)\n",
    "        neg_conf = (neg_intersection == x).sum(axis=1)/x.shape[0]\n",
    "\n",
    "        pos_intersection = pos_intersection[pos_conf >= min(self.min_similarity, pos_conf.max())]\n",
    "        neg_intersection = neg_intersection[neg_conf >= min(self.min_similarity, neg_conf.max())]\n",
    "\n",
    "        pos_dash = (pos_intersection.dot(pos_intersection.T) ==\n",
    "                    pos_intersection.sum(axis=1).reshape(pos_intersection.shape[0], 1))\n",
    "        pos_dash = pos_dash.sum(axis=1)/self.pos.shape[0]\n",
    "        pos_dash = pos_dash[pos_dash >= min(self.min_supp, pos_dash.max())]\n",
    "\n",
    "        neg_dash = (neg_intersection.dot(neg_intersection.T) ==\n",
    "                    neg_intersection.sum(axis=1).reshape(neg_intersection.shape[0], 1))\n",
    "        neg_dash = neg_dash.sum(axis=1)/self.neg.shape[0]\n",
    "        neg_dash = neg_dash[neg_dash >= min(self.min_supp, neg_dash.max())]\n",
    "        \n",
    "        pos_coeff = pos_dash.mean()\n",
    "        neg_coeff = neg_dash.mean()\n",
    "        \n",
    "        c = 1/(pos_coeff + neg_coeff)\n",
    "        return [c*neg_coeff, c*pos_coeff]\n",
    "        \n",
    "    def fit(self, X, y):\n",
    "        self.pos, self.neg = X[y == 1], X[y == 0]\n",
    "        return self\n",
    "    \n",
    "    def predict(self, X):\n",
    "        return [np.argmax(l) for l in self.predict_proba(X)]\n",
    "    \n",
    "    def predict_proba(self, X):\n",
    "        return np.array([self.__predict_one(x) for x in X])\n",
    "    \n",
    "    def get_params(self, deep=True):\n",
    "        return {'min_supp': self.min_supp, 'min_similarity': self.min_similarity}\n",
    "    \n",
    "    def set_params(self, **parameters):\n",
    "        for parameter, value in parameters.items():\n",
    "            setattr(self, parameter, value)\n",
    "        return self"
   ]
  },
  {
   "cell_type": "code",
   "execution_count": 9,
   "metadata": {
    "collapsed": false
   },
   "outputs": [
    {
     "data": {
      "text/plain": [
       "({'min_similarity': 0.96632653061224483, 'min_supp': 0.87040816326530601},\n",
       " 0.86865671641791042)"
      ]
     },
     "execution_count": 9,
     "metadata": {},
     "output_type": "execute_result"
    }
   ],
   "source": [
    "skf = sklearn.cross_validation.StratifiedKFold(y_train, n_folds=10, shuffle=True)\n",
    "clf = MyClassifier()\n",
    "gs = sklearn.grid_search.RandomizedSearchCV(clf, {'min_supp': np.linspace(0.3, 0.95, 50), \n",
    "                                                  'min_similarity': np.linspace(0.85, 1, 50)},\n",
    "                                            scoring='accuracy', n_jobs=-1, n_iter=100, cv=skf)\n",
    "gs.fit(X_train, y_train)\n",
    "gs.best_params_, gs.best_score_"
   ]
  },
  {
   "cell_type": "code",
   "execution_count": 6,
   "metadata": {
    "collapsed": true
   },
   "outputs": [],
   "source": [
    "def TP(y_true, y_pred):\n",
    "    confusion_matrix = sklearn.metrics.confusion_matrix(y_true, y_pred)\n",
    "    return confusion_matrix[0,0]\n",
    "\n",
    "def TN(y_true, y_pred):\n",
    "    confusion_matrix = sklearn.metrics.confusion_matrix(y_true, y_pred)\n",
    "    return confusion_matrix[1,1]\n",
    "\n",
    "def FP(y_true, y_pred):\n",
    "    confusion_matrix = sklearn.metrics.confusion_matrix(y_true, y_pred)\n",
    "    return confusion_matrix[1,0]\n",
    "\n",
    "def FN(y_true, y_pred):\n",
    "    confusion_matrix = sklearn.metrics.confusion_matrix(y_true, y_pred)\n",
    "    return confusion_matrix[0,1]\n",
    "\n",
    "def TPR(y_true, y_pred):\n",
    "    return TP(y_true, y_pred)/(TP(y_true, y_pred) + FN(y_true, y_pred))\n",
    "\n",
    "def TNR(y_true, y_pred):\n",
    "    return TN(y_true, y_pred)/(TN(y_true, y_pred) + FP(y_true, y_pred))\n",
    "\n",
    "def NPV(y_true, y_pred):\n",
    "    return TN(y_true, y_pred)/(TN(y_true, y_pred) + FN(y_true, y_pred))\n",
    "\n",
    "def FPR(y_true, y_pred):\n",
    "    return FP(y_true, y_pred)/(FP(y_true, y_pred) + TN(y_true, y_pred))\n",
    "\n",
    "def FDR(y_true, y_pred):\n",
    "    return FP(y_true, y_pred)/(FP(y_true, y_pred) + TP(y_true, y_pred))\n",
    "\n",
    "def TNR(y_true, y_pred):\n",
    "    return TN(y_true, y_pred)/(TN(y_true, y_pred) + FP(y_true, y_pred))\n",
    "\n",
    "metrics = [TP, TN, FP, FN, TPR, TNR, NPV, FPR, FDR, TNR,\n",
    "           sklearn.metrics.accuracy_score, sklearn.metrics.precision_score,\n",
    "           sklearn.metrics.recall_score, sklearn.metrics.roc_auc_score]\n",
    "metrics_names = [func.__name__ for func in metrics]"
   ]
  },
  {
   "cell_type": "code",
   "execution_count": 10,
   "metadata": {
    "collapsed": false
   },
   "outputs": [
    {
     "name": "stdout",
     "output_type": "stream",
     "text": [
      "TP = 97\n",
      "TN = 157\n",
      "FP = 31\n",
      "FN = 3\n",
      "TPR = 0.97\n",
      "TNR = 0.835106382979\n",
      "NPV = 0.98125\n",
      "FPR = 0.164893617021\n",
      "FDR = 0.2421875\n",
      "TNR = 0.835106382979\n",
      "accuracy_score = 0.881944444444\n",
      "precision_score = 0.98125\n",
      "recall_score = 0.835106382979\n",
      "roc_auc_score = 0.902553191489\n"
     ]
    }
   ],
   "source": [
    "clf = gs.best_estimator_\n",
    "# clf = MyClassifier(min_similarity=0.91, min_supp=0.91)\n",
    "clf.fit(X_train, y_train)\n",
    "y_pred = clf.predict(X_test)\n",
    "\n",
    "for metric_name, metric in zip(metrics_names, metrics):\n",
    "    score = metric(y_test, y_pred)\n",
    "    print(metric_name, '=', score)"
   ]
  },
  {
   "cell_type": "markdown",
   "metadata": {},
   "source": [
    "###Random Forest benchmark"
   ]
  },
  {
   "cell_type": "code",
   "execution_count": 8,
   "metadata": {
    "collapsed": false
   },
   "outputs": [
    {
     "name": "stdout",
     "output_type": "stream",
     "text": [
      "TP = 95\n",
      "TN = 188\n",
      "FP = 0\n",
      "FN = 5\n",
      "TPR = 0.95\n",
      "TNR = 1.0\n",
      "NPV = 0.974093264249\n",
      "FPR = 0.0\n",
      "FDR = 0.0\n",
      "TNR = 1.0\n",
      "accuracy_score = 0.982638888889\n",
      "precision_score = 0.974093264249\n",
      "recall_score = 1.0\n",
      "roc_auc_score = 0.975\n"
     ]
    }
   ],
   "source": [
    "clf = sklearn.ensemble.RandomForestClassifier(n_estimators=400, max_depth=10)\n",
    "clf.fit(X_train, y_train)\n",
    "y_pred = clf.predict(X_test)\n",
    "\n",
    "for metric_name, metric in zip(metrics_names, metrics):\n",
    "    score = metric(y_test, y_pred)\n",
    "    print(metric_name, '=', score)"
   ]
  }
 ],
 "metadata": {
  "kernelspec": {
   "display_name": "Python 3",
   "language": "python",
   "name": "python3"
  },
  "language_info": {
   "codemirror_mode": {
    "name": "ipython",
    "version": 3
   },
   "file_extension": ".py",
   "mimetype": "text/x-python",
   "name": "python",
   "nbconvert_exporter": "python",
   "pygments_lexer": "ipython3",
   "version": "3.4.3"
  }
 },
 "nbformat": 4,
 "nbformat_minor": 0
}
